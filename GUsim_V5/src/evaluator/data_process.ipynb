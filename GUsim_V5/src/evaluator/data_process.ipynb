{
 "cells": [
  {
   "cell_type": "code",
   "execution_count": 5,
   "metadata": {},
   "outputs": [
    {
     "name": "stdout",
     "output_type": "stream",
     "text": [
      "Average Naturalness: 4.92\n",
      "Average Recommendation: 4.29\n",
      "Average Understandability: 4.91\n"
     ]
    }
   ],
   "source": [
    "import re\n",
    "from statistics import mean\n",
    "\n",
    "# Read the log file\n",
    "with open('/data/liyuanzi/HUAWEI/GUsim_V3/src/evaluator/eval3.log', 'r') as file:\n",
    "  log_data = file.readlines()\n",
    "\n",
    "# Extract scores\n",
    "naturalness_scores = []\n",
    "recommendation_scores = []\n",
    "understandability_scores = []\n",
    "\n",
    "for line in log_data:\n",
    "  match = re.search(r\"Scores: \\{'naturalness': '(\\d+)', 'recommendation': '(\\d+)', 'understandability': '(\\d+)'\\}\", line)\n",
    "  if match:\n",
    "    naturalness_scores.append(int(match.group(1)))\n",
    "    recommendation_scores.append(int(match.group(2)))\n",
    "    understandability_scores.append(int(match.group(3)))\n",
    "\n",
    "# Calculate averages\n",
    "naturalness_avg = mean(naturalness_scores)\n",
    "recommendation_avg = mean(recommendation_scores)\n",
    "understandability_avg = mean(understandability_scores)\n",
    "\n",
    "print(f\"Average Naturalness: {naturalness_avg}\")\n",
    "print(f\"Average Recommendation: {recommendation_avg}\")\n",
    "print(f\"Average Understandability: {understandability_avg}\")"
   ]
  },
  {
   "cell_type": "code",
   "execution_count": 4,
   "metadata": {},
   "outputs": [
    {
     "name": "stdout",
     "output_type": "stream",
     "text": [
      "{'naturalness': (56.666666666666664, 41.11111111111111, 2.2222222222222223), 'recommendation': (64.44444444444444, 23.333333333333332, 12.222222222222221), 'action': (64.44444444444444, 25.555555555555554, 10.0)}\n"
     ]
    }
   ],
   "source": [
    "def scale_and_round(data):\n",
    "    pos = int(data['1'])\n",
    "    neu = int(data['0'])\n",
    "    neg = int(data['-1'])\n",
    "    total = pos + neu + neg\n",
    "    if total == 0:\n",
    "        return 0\n",
    "    score1 = (pos / total) * 100\n",
    "    score2 = (neu / total) * 100\n",
    "    score3 = (neg / total) * 100\n",
    "    return (score1, score2, score3)\n",
    "\n",
    "# 输入数据\n",
    "data = {\n",
    "    'naturalness':{'1': 51, '0': 37, '-1': 2},\n",
    "'recommendation': {'1': 58, '0': 21, '-1': 11},\n",
    "'action':{'1': 58, '0': 23, '-1': 9}\n",
    "}\n",
    "\n",
    "scores = {key: scale_and_round(value) for key, value in data.items()}\n",
    "\n",
    "print(scores)"
   ]
  },
  {
   "cell_type": "code",
   "execution_count": 4,
   "metadata": {},
   "outputs": [
    {
     "name": "stdout",
     "output_type": "stream",
     "text": [
      "Total dialogues analyzed: 100\n",
      "\n",
      "Naturalness score distribution:\n",
      "  0: 80 occurrences (80.00%)\n",
      "  1: 20 occurrences (20.00%)\n",
      "\n",
      "Recommendation score distribution:\n",
      "  -1: 11 occurrences (11.00%)\n",
      "  0: 53 occurrences (53.00%)\n",
      "  1: 36 occurrences (36.00%)\n",
      "\n",
      "Understandability score distribution:\n",
      "  -1: 5 occurrences (5.00%)\n",
      "  0: 61 occurrences (61.00%)\n",
      "  1: 34 occurrences (34.00%)\n"
     ]
    }
   ],
   "source": [
    "import re\n",
    "import json\n",
    "from collections import Counter\n",
    "\n",
    "# Pattern to match dialogue scores\n",
    "pattern = r\"Dialogue (\\d+) Scores: (\\{.*?\\})\"\n",
    "\n",
    "# Process the log file\n",
    "with open('/data/liyuanzi/HUAWEI/GUsim_V3/src/evaluator/eval_common_pairwise3.log', 'r', encoding='utf-8') as f:\n",
    "  log_content = f.read()\n",
    "\n",
    "import re\n",
    "from collections import defaultdict\n",
    "\n",
    "def parse_scores(log_content):\n",
    "  # Regular expression to match dialogue scores\n",
    "  pattern = r\"Dialogue (\\d+) Scores: \\{'naturalness': '([-\\d]*)', 'recommendation': '([-\\d]*)', 'understandability': '([-\\d]*)'\\}\"\n",
    "  matches = re.findall(pattern, log_content)\n",
    "  \n",
    "  # Initialize counters\n",
    "  total_dialogues = 0\n",
    "  metrics = {\n",
    "    'naturalness': defaultdict(int),\n",
    "    'recommendation': defaultdict(int),\n",
    "    'understandability': defaultdict(int)\n",
    "  }\n",
    "  \n",
    "  # Process each match\n",
    "  for dialogue_id, naturalness, recommendation, understandability in matches:\n",
    "    total_dialogues += 1\n",
    "    \n",
    "    # Count occurrences of each score value\n",
    "    if naturalness: metrics['naturalness'][naturalness] += 1\n",
    "    if recommendation: metrics['recommendation'][recommendation] += 1\n",
    "    if understandability: metrics['understandability'][understandability] += 1\n",
    "  \n",
    "  # Print summary\n",
    "  print(f\"Total dialogues analyzed: {total_dialogues}\")\n",
    "  \n",
    "  for metric_name, counts in metrics.items():\n",
    "    print(f\"\\n{metric_name.capitalize()} score distribution:\")\n",
    "    for score, count in sorted(counts.items()):\n",
    "      percentage = (count / total_dialogues) * 100 if total_dialogues > 0 else 0\n",
    "      print(f\"  {score}: {count} occurrences ({percentage:.2f}%)\")\n",
    "  \n",
    "  return total_dialogues, metrics\n",
    "\n",
    "# Run analysis on the log content\n",
    "total_dialogues, metrics = parse_scores(log_content)"
   ]
  }
 ],
 "metadata": {
  "kernelspec": {
   "display_name": "Usim",
   "language": "python",
   "name": "python3"
  },
  "language_info": {
   "codemirror_mode": {
    "name": "ipython",
    "version": 3
   },
   "file_extension": ".py",
   "mimetype": "text/x-python",
   "name": "python",
   "nbconvert_exporter": "python",
   "pygments_lexer": "ipython3",
   "version": "3.10.16"
  }
 },
 "nbformat": 4,
 "nbformat_minor": 2
}
