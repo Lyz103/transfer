{
 "cells": [
  {
   "cell_type": "code",
   "execution_count": 3,
   "metadata": {},
   "outputs": [],
   "source": [
    "import json\n",
    "\n",
    "# 输入和输出文件路径\n",
    "input_file = 'synthesized_profiles.json'\n",
    "output_file = 'synthesized_profiles.jsonl'\n",
    "\n",
    "# 打开并读取原始 JSON 数据\n",
    "with open(input_file, 'r', encoding='utf-8') as infile:\n",
    "    data = json.load(infile)\n",
    "\n",
    "# 确保加载的数据是列表类型\n",
    "if isinstance(data, list):\n",
    "    # 写入 JSONL 文件，每个对象单独一行\n",
    "    with open(output_file, 'w', encoding='utf-8') as outfile:\n",
    "        for item in data:\n",
    "            json.dump(item, outfile, ensure_ascii=False)\n",
    "            outfile.write('\\n')\n",
    "else:\n",
    "    raise TypeError(\"输入数据不是一个 JSON 数组\")"
   ]
  }
 ],
 "metadata": {
  "kernelspec": {
   "display_name": "Usim",
   "language": "python",
   "name": "python3"
  },
  "language_info": {
   "codemirror_mode": {
    "name": "ipython",
    "version": 3
   },
   "file_extension": ".py",
   "mimetype": "text/x-python",
   "name": "python",
   "nbconvert_exporter": "python",
   "pygments_lexer": "ipython3",
   "version": "3.10.16"
  }
 },
 "nbformat": 4,
 "nbformat_minor": 2
}
