{
 "cells": [
  {
   "cell_type": "code",
   "execution_count": 6,
   "metadata": {},
   "outputs": [],
   "source": [
    "import json\n",
    "profiles = []\n",
    "with open(\"history_5.jsonl\", 'r') as f:\n",
    "    for line in f:\n",
    "        data = json.loads(line)\n",
    "        profile = data['user_profile']\n",
    "        profiles.append(profile)\n",
    "\n",
    "with open(\"profiles.jsonl\", 'w', encoding='utf-8') as f:\n",
    "    for profile in profiles:\n",
    "        json_line = json.dumps(profile, ensure_ascii=False)\n",
    "        f.write(json_line + '\\n')\n",
    "\n",
    "        "
   ]
  }
 ],
 "metadata": {
  "kernelspec": {
   "display_name": "Usim",
   "language": "python",
   "name": "python3"
  },
  "language_info": {
   "codemirror_mode": {
    "name": "ipython",
    "version": 3
   },
   "file_extension": ".py",
   "mimetype": "text/x-python",
   "name": "python",
   "nbconvert_exporter": "python",
   "pygments_lexer": "ipython3",
   "version": "3.10.16"
  }
 },
 "nbformat": 4,
 "nbformat_minor": 2
}
