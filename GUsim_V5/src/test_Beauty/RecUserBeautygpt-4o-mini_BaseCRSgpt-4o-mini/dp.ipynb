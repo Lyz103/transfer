{
 "cells": [
  {
   "cell_type": "code",
   "execution_count": 1,
   "metadata": {},
   "outputs": [],
   "source": [
    "import json\n",
    "\n",
    "# 输入输出文件路径\n",
    "input_file = 'history_5.jsonl'\n",
    "output_file = 'history_52.jsonl'\n",
    "\n",
    "# 打开输入和输出文件\n",
    "with open(input_file, 'r', encoding='utf-8') as fin, \\\n",
    "     open(output_file, 'w', encoding='utf-8') as fout:\n",
    "\n",
    "    # 逐行处理\n",
    "    for idx, line in enumerate(fin, start=1):\n",
    "        try:\n",
    "            data = json.loads(line.strip())\n",
    "            data['id'] = idx  # 添加 id 字段，从1开始编号\n",
    "            fout.write(json.dumps(data, ensure_ascii=False) + '\\n')\n",
    "        except json.JSONDecodeError:\n",
    "            print(f\"第 {idx} 行 JSON 解析失败，跳过此行。\")"
   ]
  }
 ],
 "metadata": {
  "kernelspec": {
   "display_name": "Usim",
   "language": "python",
   "name": "python3"
  },
  "language_info": {
   "codemirror_mode": {
    "name": "ipython",
    "version": 3
   },
   "file_extension": ".py",
   "mimetype": "text/x-python",
   "name": "python",
   "nbconvert_exporter": "python",
   "pygments_lexer": "ipython3",
   "version": "3.10.16"
  }
 },
 "nbformat": 4,
 "nbformat_minor": 2
}
